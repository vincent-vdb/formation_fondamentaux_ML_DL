{
 "cells": [
  {
   "cell_type": "markdown",
   "metadata": {},
   "source": [
    "### Cas d’un modèle de régression"
   ]
  },
  {
   "cell_type": "markdown",
   "metadata": {},
   "source": [
    "Sur les données des territoires d’Ile-de-France, nous désirons prédire le salaire\n",
    "médian des communes en fonction des autres variables des données. "
   ]
  },
  {
   "cell_type": "code",
   "execution_count": 1,
   "metadata": {},
   "outputs": [],
   "source": [
    "from sklearn.linear_model import Ridge\n",
    "import pandas as pd\n",
    "import numpy as np"
   ]
  },
  {
   "cell_type": "code",
   "execution_count": 2,
   "metadata": {},
   "outputs": [],
   "source": [
    "data = pd.read_csv(\"./Data/base-dpt.csv\",sep=\";\").drop([\"PIMP14\",\"TP6014\"],axis=1).dropna()"
   ]
  },
  {
   "cell_type": "markdown",
   "metadata": {},
   "source": [
    "## Execice : \n",
    "    \n",
    "Suivre le processus de préparation et de mise en place d'un modèle sur un modèle de régression\n",
    "\n",
    "On utilisera :"
   ]
  },
  {
   "cell_type": "code",
   "execution_count": 3,
   "metadata": {},
   "outputs": [],
   "source": [
    "from sklearn.linear_model import Ridge\n",
    "from sklearn.linear_model import LinearRegression\n",
    "from sklearn.ensemble import RandomForestRegressor"
   ]
  },
  {
   "cell_type": "markdown",
   "metadata": {},
   "source": [
    "### Préparation des données"
   ]
  },
  {
   "cell_type": "code",
   "execution_count": 4,
   "metadata": {},
   "outputs": [
    {
     "name": "stdout",
     "output_type": "stream",
     "text": [
      "<class 'pandas.core.frame.DataFrame'>\n",
      "Int64Index: 1277 entries, 0 to 1299\n",
      "Data columns (total 36 columns):\n",
      " #   Column         Non-Null Count  Dtype  \n",
      "---  ------         --------------  -----  \n",
      " 0   CODGEO         1277 non-null   int64  \n",
      " 1   LIBGEO         1277 non-null   object \n",
      " 2   REG            1277 non-null   int64  \n",
      " 3   DEP            1277 non-null   int64  \n",
      " 4   P14_POP        1277 non-null   float64\n",
      " 5   P09_POP        1277 non-null   float64\n",
      " 6   SUPERF         1277 non-null   float64\n",
      " 7   NAIS0914       1277 non-null   float64\n",
      " 8   DECE0914       1277 non-null   float64\n",
      " 9   P14_MEN        1277 non-null   float64\n",
      " 10  NAISD16        1277 non-null   float64\n",
      " 11  DECESD16       1277 non-null   float64\n",
      " 12  P14_LOG        1277 non-null   float64\n",
      " 13  P14_RP         1277 non-null   float64\n",
      " 14  P14_RSECOCC    1277 non-null   float64\n",
      " 15  P14_LOGVAC     1277 non-null   float64\n",
      " 16  P14_RP_PROP    1277 non-null   float64\n",
      " 17  NBMENFISC14    1277 non-null   float64\n",
      " 18  MED14          1277 non-null   float64\n",
      " 19  P14_EMPLT      1277 non-null   float64\n",
      " 20  P14_EMPLT_SAL  1277 non-null   float64\n",
      " 21  P09_EMPLT      1277 non-null   float64\n",
      " 22  P14_POP1564    1277 non-null   float64\n",
      " 23  P14_CHOM1564   1277 non-null   float64\n",
      " 24  P14_ACT1564    1277 non-null   float64\n",
      " 25  ETTOT15        1277 non-null   float64\n",
      " 26  ETAZ15         1277 non-null   float64\n",
      " 27  ETBE15         1277 non-null   float64\n",
      " 28  ETFZ15         1277 non-null   float64\n",
      " 29  ETGU15         1277 non-null   float64\n",
      " 30  ETGZ15         1277 non-null   float64\n",
      " 31  ETOQ15         1277 non-null   float64\n",
      " 32  ETTEF115       1277 non-null   float64\n",
      " 33  ETTEFP1015     1277 non-null   float64\n",
      " 34  Geo Shape      1277 non-null   object \n",
      " 35  geo_point_2d   1277 non-null   object \n",
      "dtypes: float64(30), int64(3), object(3)\n",
      "memory usage: 369.1+ KB\n"
     ]
    }
   ],
   "source": [
    "data.info()"
   ]
  },
  {
   "cell_type": "code",
   "execution_count": 5,
   "metadata": {},
   "outputs": [],
   "source": [
    "y_quanti=data[\"MED14\"]\n",
    "x_quanti=data.select_dtypes(np.number).drop([\"CODGEO\",\"REG\",\"DEP\",\"MED14\"],axis=1)"
   ]
  },
  {
   "cell_type": "markdown",
   "metadata": {},
   "source": [
    "### Séparation apprentissage test"
   ]
  },
  {
   "cell_type": "code",
   "execution_count": 6,
   "metadata": {},
   "outputs": [],
   "source": [
    "# on importe la fonction\n",
    "from sklearn.model_selection import train_test_split\n",
    "x_train, x_test, y_train, y_test = train_test_split(x_quanti,y_quanti,test_size = 0.25)"
   ]
  },
  {
   "cell_type": "markdown",
   "metadata": {},
   "source": [
    "### Apprentissage des modèles"
   ]
  },
  {
   "cell_type": "code",
   "execution_count": 7,
   "metadata": {},
   "outputs": [],
   "source": [
    "modele_ridge = Ridge()\n",
    "modele_lin = LinearRegression()\n",
    "modele_rf = RandomForestRegressor()"
   ]
  },
  {
   "cell_type": "code",
   "execution_count": 8,
   "metadata": {},
   "outputs": [
    {
     "data": {
      "text/plain": [
       "RandomForestRegressor()"
      ]
     },
     "execution_count": 8,
     "metadata": {},
     "output_type": "execute_result"
    }
   ],
   "source": [
    "modele_ridge.fit(x_train, y_train)\n",
    "modele_lin.fit(x_train, y_train)\n",
    "modele_rf.fit(x_train, y_train)"
   ]
  },
  {
   "cell_type": "code",
   "execution_count": 9,
   "metadata": {},
   "outputs": [],
   "source": [
    "y_predict_ridge = modele_ridge.predict(x_test)\n",
    "y_predict_lin = modele_lin.predict(x_test)\n",
    "y_predict_rf = modele_rf.predict(x_test)"
   ]
  },
  {
   "cell_type": "markdown",
   "metadata": {},
   "source": [
    "#### La validation dans le cas continu\n",
    "\n",
    "Il s’agit du cas où on essaye de prédire une variable quantitative. Dans ce cas, on ne peut pas utiliser les indicateurs précédents"
   ]
  },
  {
   "cell_type": "code",
   "execution_count": 10,
   "metadata": {},
   "outputs": [],
   "source": [
    "from sklearn.metrics import mean_squared_error\n",
    "from sklearn.metrics import r2_score\n",
    "from sklearn.metrics import explained_variance_score\n",
    "from sklearn.metrics import median_absolute_error"
   ]
  },
  {
   "cell_type": "code",
   "execution_count": 11,
   "metadata": {},
   "outputs": [
    {
     "name": "stdout",
     "output_type": "stream",
     "text": [
      "RMSE pour le modèle ridge : 3676.738\n",
      "RMSE pour le modèle linéaire : 3696.765\n",
      "RMSE pour le modèle RF : 2579.724\n"
     ]
    }
   ],
   "source": [
    "import math\n",
    "mse_ridge = mean_squared_error(y_test,y_predict_ridge)\n",
    "mse_lin = mean_squared_error(y_test,y_predict_lin)\n",
    "mse_rf = mean_squared_error(y_test,y_predict_rf)\n",
    "print(f\"RMSE pour le modèle ridge : {math.sqrt(mse_ridge):.3f}\")\n",
    "print(f\"RMSE pour le modèle linéaire : {math.sqrt(mse_lin):.3f}\")\n",
    "print(f\"RMSE pour le modèle RF : {math.sqrt(mse_rf):.3f}\")"
   ]
  },
  {
   "cell_type": "code",
   "execution_count": 12,
   "metadata": {},
   "outputs": [
    {
     "name": "stdout",
     "output_type": "stream",
     "text": [
      "R² pour le modèle ridge : 0.233\n",
      "R² pour le modèle linéaire : 0.225\n",
      "R² pour le modèle RF : 0.623\n"
     ]
    }
   ],
   "source": [
    "r2_ridge = r2_score(y_test,y_predict_ridge)\n",
    "r2_lin = r2_score(y_test,y_predict_lin)\n",
    "r2_rf = r2_score(y_test,y_predict_rf)\n",
    "print(f\"R² pour le modèle ridge : {r2_ridge:.3f}\")\n",
    "print(f\"R² pour le modèle linéaire : {r2_lin:.3f}\")\n",
    "print(f\"R² pour le modèle RF : {r2_rf:.3f}\")"
   ]
  },
  {
   "cell_type": "markdown",
   "metadata": {},
   "source": [
    "### Exercice supplémentaire - ajustement des hyper-paramètres\n",
    "\n",
    "On peut essayer de faire varier les hyper-paramètres\n",
    "\n"
   ]
  },
  {
   "cell_type": "code",
   "execution_count": 13,
   "metadata": {},
   "outputs": [],
   "source": [
    "from sklearn.model_selection import GridSearchCV"
   ]
  },
  {
   "cell_type": "code",
   "execution_count": 14,
   "metadata": {
    "slideshow": {
     "slide_type": "fragment"
    }
   },
   "outputs": [],
   "source": [
    "dico_param= {\"max_depth\":[3,5,7,10], \"n_estimators\":[10,20,50,100]}"
   ]
  },
  {
   "cell_type": "code",
   "execution_count": 15,
   "metadata": {
    "slideshow": {
     "slide_type": "fragment"
    }
   },
   "outputs": [],
   "source": [
    "recherche_hyper = GridSearchCV(RandomForestRegressor(), \n",
    "                               dico_param, \n",
    "                               cv=5)"
   ]
  },
  {
   "cell_type": "code",
   "execution_count": 16,
   "metadata": {
    "slideshow": {
     "slide_type": "subslide"
    }
   },
   "outputs": [],
   "source": [
    "recherche_hyper.fit(x_train, y_train)\n",
    "pass"
   ]
  },
  {
   "cell_type": "code",
   "execution_count": 17,
   "metadata": {},
   "outputs": [
    {
     "name": "stdout",
     "output_type": "stream",
     "text": [
      "{'max_depth': 10, 'n_estimators': 100}\n"
     ]
    }
   ],
   "source": [
    "print(recherche_hyper.best_params_)"
   ]
  },
  {
   "cell_type": "code",
   "execution_count": 18,
   "metadata": {},
   "outputs": [
    {
     "name": "stdout",
     "output_type": "stream",
     "text": [
      "0.5669794363106638\n"
     ]
    }
   ],
   "source": [
    "print(recherche_hyper.best_score_)"
   ]
  },
  {
   "cell_type": "markdown",
   "metadata": {},
   "source": [
    "# Question : quel est le meilleur modèle en terme de MSE ?"
   ]
  },
  {
   "cell_type": "markdown",
   "metadata": {},
   "source": [
    "..."
   ]
  }
 ],
 "metadata": {
  "kernelspec": {
   "display_name": "Python 3",
   "language": "python",
   "name": "python3"
  },
  "language_info": {
   "codemirror_mode": {
    "name": "ipython",
    "version": 3
   },
   "file_extension": ".py",
   "mimetype": "text/x-python",
   "name": "python",
   "nbconvert_exporter": "python",
   "pygments_lexer": "ipython3",
   "version": "3.7.4"
  }
 },
 "nbformat": 4,
 "nbformat_minor": 5
}

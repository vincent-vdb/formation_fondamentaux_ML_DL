{
 "cells": [
  {
   "cell_type": "markdown",
   "id": "812ffa98",
   "metadata": {},
   "source": [
    "### Cas d’un modèle de régression"
   ]
  },
  {
   "cell_type": "markdown",
   "id": "dc83ccb3",
   "metadata": {},
   "source": [
    "Sur les données des territoires d’Ile-de-France, nous désirons prédire le salaire\n",
    "médian des communes en fonction des autres variables des données. "
   ]
  },
  {
   "cell_type": "code",
   "execution_count": null,
   "id": "237f9043",
   "metadata": {},
   "outputs": [],
   "source": [
    "from sklearn.linear_model import Ridge\n",
    "import pandas as pd\n",
    "import numpy as np"
   ]
  },
  {
   "cell_type": "code",
   "execution_count": null,
   "id": "5f378f41",
   "metadata": {},
   "outputs": [],
   "source": [
    "data = pd.read_csv(\"./data/base-dpt.csv\",sep=\";\").drop([\"PIMP14\",\"TP6014\"],axis=1).dropna()"
   ]
  },
  {
   "cell_type": "markdown",
   "id": "4a75ee28",
   "metadata": {},
   "source": [
    "## Execice : \n",
    "    \n",
    "Suivre le processus de préparation et de mise en place d'un modèle sur un modèle de régression\n",
    "\n",
    "On utilisera :"
   ]
  },
  {
   "cell_type": "code",
   "execution_count": null,
   "id": "60a0c13b",
   "metadata": {},
   "outputs": [],
   "source": [
    "from sklearn.linear_model import Ridge\n",
    "from sklearn.linear_model import LinearRegression\n",
    "from sklearn.ensemble import RandomForestRegressor"
   ]
  },
  {
   "cell_type": "markdown",
   "id": "4367b859",
   "metadata": {},
   "source": [
    "### Préparation des données"
   ]
  },
  {
   "cell_type": "code",
   "execution_count": null,
   "id": "b43c8779",
   "metadata": {},
   "outputs": [],
   "source": [
    "data.info()"
   ]
  },
  {
   "cell_type": "code",
   "execution_count": null,
   "id": "a8e23d10",
   "metadata": {},
   "outputs": [],
   "source": [
    "y_quanti=data[\"MED14\"]\n",
    "x_quanti=data.select_dtypes(np.number).drop([\"CODGEO\",\"REG\",\"DEP\",\"MED14\"],axis=1)"
   ]
  },
  {
   "cell_type": "markdown",
   "id": "17018dc0",
   "metadata": {},
   "source": [
    "### Séparation apprentissage test"
   ]
  },
  {
   "cell_type": "code",
   "execution_count": null,
   "id": "05a582d8",
   "metadata": {},
   "outputs": [],
   "source": [
    "# on importe la fonction\n",
    "from sklearn.model_selection import train_test_split\n",
    "x_train, x_test, y_train, y_test = train_test_split(x_quanti,y_quanti,test_size = 0.25)"
   ]
  },
  {
   "cell_type": "markdown",
   "id": "676f1967",
   "metadata": {},
   "source": [
    "### Apprentage des modèles"
   ]
  },
  {
   "cell_type": "code",
   "execution_count": null,
   "id": "742ee2db",
   "metadata": {},
   "outputs": [],
   "source": [
    "modele_ridge = Ridge()\n",
    "modele_lin = LinearRegression()\n",
    "modele_rf = RandomForestRegressor()"
   ]
  },
  {
   "cell_type": "code",
   "execution_count": null,
   "id": "88e9cc58",
   "metadata": {},
   "outputs": [],
   "source": [
    "modele_ridge.fit(x_train, y_train)\n",
    "modele_lin.fit(x_train, y_train)\n",
    "modele_rf.fit(x_train, y_train)"
   ]
  },
  {
   "cell_type": "code",
   "execution_count": null,
   "id": "d55e66d9",
   "metadata": {},
   "outputs": [],
   "source": [
    "y_predict_ridge = modele_ridge.predict(x_test)\n",
    "y_predict_lin = modele_lin.predict(x_test)\n",
    "y_predict_rf = modele_rf.predict(x_test)"
   ]
  },
  {
   "cell_type": "markdown",
   "id": "4d945dee",
   "metadata": {},
   "source": [
    "#### La validation dans le cas continu\n",
    "\n",
    "Il s’agit du cas où on essaye de prédire une variable quantitative. Dans ce cas, on ne peut pas utiliser les indicateurs précédents"
   ]
  },
  {
   "cell_type": "code",
   "execution_count": null,
   "id": "b00155ee",
   "metadata": {},
   "outputs": [],
   "source": [
    "from sklearn.metrics import mean_squared_error\n",
    "from sklearn.metrics import r2_score\n",
    "from sklearn.metrics import explained_variance_score\n",
    "from sklearn.metrics import median_absolute_error\n"
   ]
  },
  {
   "cell_type": "code",
   "execution_count": null,
   "id": "c7178f69",
   "metadata": {},
   "outputs": [],
   "source": [
    "import math\n",
    "mse_ridge = mean_squared_error(y_test,y_predict_ridge)\n",
    "mse_lin = mean_squared_error(y_test,y_predict_lin)\n",
    "mse_rf = mean_squared_error(y_test,y_predict_rf)\n",
    "print(f\"RMSE pour le modèle ridge : {math.sqrt(mse_ridge):.3f}\")\n",
    "print(f\"RMSE pour le modèle linéaire : {math.sqrt(mse_lin):.3f}\")\n",
    "print(f\"RMSE pour le modèle RF : {math.sqrt(mse_rf):.3f}\")"
   ]
  },
  {
   "cell_type": "code",
   "execution_count": null,
   "id": "2bb27b0e",
   "metadata": {},
   "outputs": [],
   "source": [
    "\n",
    "r2_ridge = r2_score(y_test,y_predict_ridge)\n",
    "r2_lin = r2_score(y_test,y_predict_lin)\n",
    "r2_rf = r2_score(y_test,y_predict_rf)\n",
    "print(f\"R² pour le modèle ridge : {r2_ridge:.3f}\")\n",
    "print(f\"R² pour le modèle linéaire : {r2_lin:.3f}\")\n",
    "print(f\"R² pour le modèle RF : {r2_rf:.3f}\")"
   ]
  },
  {
   "cell_type": "markdown",
   "id": "4988031e",
   "metadata": {},
   "source": [
    "### Exercice supplémentaire - ajustement des hyper-paramètres\n",
    "\n",
    "On peut essayer de faire varier les hyper-paramètres\n",
    "\n"
   ]
  },
  {
   "cell_type": "code",
   "execution_count": null,
   "id": "0501155e",
   "metadata": {},
   "outputs": [],
   "source": [
    "from sklearn.model_selection import GridSearchCV"
   ]
  },
  {
   "cell_type": "code",
   "execution_count": null,
   "id": "598eb92f",
   "metadata": {
    "slideshow": {
     "slide_type": "fragment"
    }
   },
   "outputs": [],
   "source": [
    "dico_param= {\"max_depth\":[3,5,7,10], \"n_estimators\":[10,20,50,100]}"
   ]
  },
  {
   "cell_type": "code",
   "execution_count": null,
   "id": "949bfb89",
   "metadata": {
    "slideshow": {
     "slide_type": "fragment"
    }
   },
   "outputs": [],
   "source": [
    "recherche_hyper = GridSearchCV(RandomForestRegressor(), \n",
    "                               dico_param, \n",
    "                               cv=5)"
   ]
  },
  {
   "cell_type": "code",
   "execution_count": null,
   "id": "c3a754ce",
   "metadata": {
    "slideshow": {
     "slide_type": "subslide"
    }
   },
   "outputs": [],
   "source": [
    "recherche_hyper.fit(x_train, y_train)\n",
    "pass"
   ]
  },
  {
   "cell_type": "code",
   "execution_count": null,
   "id": "541e3e61",
   "metadata": {},
   "outputs": [],
   "source": [
    "print(recherche_hyper.best_params_)"
   ]
  },
  {
   "cell_type": "code",
   "execution_count": null,
   "id": "429a461a",
   "metadata": {},
   "outputs": [],
   "source": [
    "print(recherche_hyper.best_score_)"
   ]
  },
  {
   "cell_type": "markdown",
   "id": "bb7ec8ec",
   "metadata": {},
   "source": [
    "# Question : quel est le meilleur modèle en terme de MSE ?"
   ]
  },
  {
   "cell_type": "markdown",
   "id": "780cb1e4",
   "metadata": {},
   "source": [
    "..."
   ]
  }
 ],
 "metadata": {
  "kernelspec": {
   "display_name": "Python 3",
   "language": "python",
   "name": "python3"
  },
  "language_info": {
   "codemirror_mode": {
    "name": "ipython",
    "version": 3
   },
   "file_extension": ".py",
   "mimetype": "text/x-python",
   "name": "python",
   "nbconvert_exporter": "python",
   "pygments_lexer": "ipython3",
   "version": "3.7.6"
  }
 },
 "nbformat": 4,
 "nbformat_minor": 5
}

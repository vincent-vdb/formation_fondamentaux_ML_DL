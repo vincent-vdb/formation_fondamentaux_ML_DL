{
 "cells": [
  {
   "cell_type": "markdown",
   "metadata": {
    "id": "bcbvsh0OWb6G",
    "slideshow": {
     "slide_type": "slide"
    }
   },
   "source": [
    "# Entrainer un réseau de neurones avec Keras\n",
    "\n",
    "### Objectif: \n",
    "- Apprendre un réseau de neurones avec `tensorflow` et Keras\n",
    "\n",
    "### Jeu de données:\n",
    "- Digits: 10 class handwritten digits\n",
    "- https://keras.io/api/datasets/mnist/"
   ]
  },
  {
   "cell_type": "code",
   "execution_count": 1,
   "metadata": {
    "id": "MQkjfVRrWb6J",
    "slideshow": {
     "slide_type": "subslide"
    }
   },
   "outputs": [],
   "source": [
    "%matplotlib inline \n",
    "# display figures in the notebook\n",
    "import matplotlib.pyplot as plt\n",
    "import numpy as np\n",
    "from tensorflow.keras.datasets.mnist import load_data\n",
    "\n",
    "(X_train, y_train), (X_test, y_test) = load_data()"
   ]
  },
  {
   "cell_type": "code",
   "execution_count": 2,
   "metadata": {
    "colab": {
     "base_uri": "https://localhost:8080/",
     "height": 227
    },
    "id": "DBTxt0QGWb6O",
    "outputId": "c5fefdd0-9b5f-4891-b30a-913576ee50f0",
    "slideshow": {
     "slide_type": "fragment"
    }
   },
   "outputs": [
    {
     "data": {
      "image/png": "[encoded data removed]",
      "text/plain": [
       "<Figure size 216x216 with 1 Axes>"
      ]
     },
     "metadata": {
      "needs_background": "light"
     },
     "output_type": "display_data"
    }
   ],
   "source": [
    "sample_index = 100\n",
    "plt.figure(figsize=(3, 3))\n",
    "plt.imshow(X_train[sample_index], cmap=plt.cm.gray_r,\n",
    "           interpolation='nearest')\n",
    "plt.title(\"image label: %d\" % y_train[sample_index]);"
   ]
  },
  {
   "cell_type": "markdown",
   "metadata": {
    "id": "7_9dN61GWb6R",
    "slideshow": {
     "slide_type": "subslide"
    }
   },
   "source": [
    "## Séparation apprentissage / test\n"
   ]
  },
  {
   "cell_type": "markdown",
   "metadata": {
    "slideshow": {
     "slide_type": "fragment"
    }
   },
   "source": [
    "Les données fournies par keras sont déjà séparées, mais on pourrait les séparer avec la fonction `train_test_split` de scikit-learn si nécessaire."
   ]
  },
  {
   "cell_type": "markdown",
   "metadata": {
    "id": "w_DfQAwXWb6V",
    "slideshow": {
     "slide_type": "subslide"
    }
   },
   "source": [
    "## Préparation des données"
   ]
  },
  {
   "cell_type": "markdown",
   "metadata": {
    "id": "w_DfQAwXWb6V",
    "slideshow": {
     "slide_type": "fragment"
    }
   },
   "source": [
    "Normalisation des données : quelle méthode appliquer ?"
   ]
  },
  {
   "cell_type": "markdown",
   "metadata": {
    "slideshow": {
     "slide_type": "fragment"
    }
   },
   "source": [
    "Les données images ont un traitement particulier en général.\n",
    "- Chaque image est composée de 28x28 pixels : nous allons le transformer en un array de 784 pixels\n",
    "- Chaque pixel est composé de 3 couleurs : R, G, B\n",
    "- Chaque niveau de couleur est encodé sur 8 bits : 2^8 = 0 à 255"
   ]
  },
  {
   "cell_type": "code",
   "execution_count": 3,
   "metadata": {
    "slideshow": {
     "slide_type": "fragment"
    }
   },
   "outputs": [],
   "source": [
    "# Reshape des images\n",
    "X_train = X_train.reshape(X_train.shape[0], 784)\n",
    "X_test = X_test.reshape(X_test.shape[0], 784)"
   ]
  },
  {
   "cell_type": "code",
   "execution_count": 4,
   "metadata": {
    "slideshow": {
     "slide_type": "fragment"
    }
   },
   "outputs": [
    {
     "data": {
      "text/plain": [
       "(0, 255)"
      ]
     },
     "execution_count": 4,
     "metadata": {},
     "output_type": "execute_result"
    }
   ],
   "source": [
    "X_train.min(), X_train.max()"
   ]
  },
  {
   "cell_type": "markdown",
   "metadata": {
    "slideshow": {
     "slide_type": "subslide"
    }
   },
   "source": [
    "En conséquence, on normalise entre 0 et 1 en divisant par 255 :"
   ]
  },
  {
   "cell_type": "code",
   "execution_count": 5,
   "metadata": {
    "id": "ZwhWqH0kWb6V",
    "slideshow": {
     "slide_type": "fragment"
    }
   },
   "outputs": [],
   "source": [
    "X_train = X_train / 255\n",
    "X_test = X_test / 255"
   ]
  },
  {
   "cell_type": "markdown",
   "metadata": {
    "id": "FN_gX-DHWb6j",
    "slideshow": {
     "slide_type": "subslide"
    }
   },
   "source": [
    "## Préparation de la cible\n",
    "\n",
    "Utilisation de one-hot encoding"
   ]
  },
  {
   "cell_type": "code",
   "execution_count": 6,
   "metadata": {
    "colab": {
     "base_uri": "https://localhost:8080/"
    },
    "id": "MPCMXtIHWb6j",
    "outputId": "0f057c89-6bd9-4b68-8531-0ddf8935502e",
    "slideshow": {
     "slide_type": "fragment"
    }
   },
   "outputs": [
    {
     "data": {
      "text/plain": [
       "array([5, 0, 4], dtype=uint8)"
      ]
     },
     "execution_count": 6,
     "metadata": {},
     "output_type": "execute_result"
    }
   ],
   "source": [
    "y_train[:3]"
   ]
  },
  {
   "cell_type": "markdown",
   "metadata": {
    "id": "CSk5UaEAWb6m",
    "slideshow": {
     "slide_type": "fragment"
    }
   },
   "source": [
    "Keras a une fonction qui permet de modifier les valeurs entières en one hot encoding :"
   ]
  },
  {
   "cell_type": "code",
   "execution_count": 7,
   "metadata": {
    "colab": {
     "base_uri": "https://localhost:8080/"
    },
    "id": "pZsznT6CWb6m",
    "outputId": "2f84e040-df47-4c9d-822e-cd889e0295ad",
    "slideshow": {
     "slide_type": "fragment"
    }
   },
   "outputs": [
    {
     "data": {
      "text/plain": [
       "array([[0., 0., 0., 0., 0., 1., 0., 0., 0., 0.],\n",
       "       [1., 0., 0., 0., 0., 0., 0., 0., 0., 0.],\n",
       "       [0., 0., 0., 0., 1., 0., 0., 0., 0., 0.]], dtype=float32)"
      ]
     },
     "execution_count": 7,
     "metadata": {},
     "output_type": "execute_result"
    }
   ],
   "source": [
    "from tensorflow.keras.utils import to_categorical\n",
    "\n",
    "Y_train = to_categorical(y_train)\n",
    "Y_train[:3]"
   ]
  },
  {
   "cell_type": "markdown",
   "metadata": {
    "id": "39LkRRztWb6o",
    "slideshow": {
     "slide_type": "subslide"
    }
   },
   "source": [
    "## Construction d'un réseau de neurones simple avec keras\n",
    "\n",
    "### Un premier modèle avec Keras"
   ]
  },
  {
   "cell_type": "markdown",
   "metadata": {
    "id": "tqHDd_tSWb6p"
   },
   "source": [
    "Nous pouvons maintenant construire notre premier réseau de neurones en utilisant l'API de Keras:\n",
    "\n",
    "- d'abord nous définissons le modèle en empilant des couches avec les bonnes dimensions\n",
    "- puis on définit une fonction de perte et on branche l'optimiseur SGD\n",
    "- puis nous alimentons le modèle avec les données d'apprentissage pour un nombre fixe d'époques"
   ]
  },
  {
   "cell_type": "code",
   "execution_count": 8,
   "metadata": {
    "colab": {
     "base_uri": "https://localhost:8080/"
    },
    "id": "7tkVtqrSWb6p",
    "outputId": "d4247873-93a0-4c83-f077-791bc95e3d6d"
   },
   "outputs": [
    {
     "name": "stdout",
     "output_type": "stream",
     "text": [
      "Epoch 1/15\n",
      "1500/1500 [==============================] - 4s 3ms/step - loss: 0.5200 - accuracy: 0.8524 - val_loss: 0.2231 - val_accuracy: 0.9377\n",
      "Epoch 2/15\n",
      "1500/1500 [==============================] - 3s 2ms/step - loss: 0.2177 - accuracy: 0.9381 - val_loss: 0.1817 - val_accuracy: 0.9472\n",
      "Epoch 3/15\n",
      "1500/1500 [==============================] - 3s 2ms/step - loss: 0.1599 - accuracy: 0.9556 - val_loss: 0.1471 - val_accuracy: 0.9591\n",
      "Epoch 4/15\n",
      "1500/1500 [==============================] - 3s 2ms/step - loss: 0.1301 - accuracy: 0.9633 - val_loss: 0.1302 - val_accuracy: 0.9622\n",
      "Epoch 5/15\n",
      "1500/1500 [==============================] - 3s 2ms/step - loss: 0.1062 - accuracy: 0.9703 - val_loss: 0.1169 - val_accuracy: 0.9663\n",
      "Epoch 6/15\n",
      "1500/1500 [==============================] - 3s 2ms/step - loss: 0.0905 - accuracy: 0.9757 - val_loss: 0.1141 - val_accuracy: 0.9660\n",
      "Epoch 7/15\n",
      "1500/1500 [==============================] - 3s 2ms/step - loss: 0.0788 - accuracy: 0.9781 - val_loss: 0.1111 - val_accuracy: 0.9678\n",
      "Epoch 8/15\n",
      "1500/1500 [==============================] - 3s 2ms/step - loss: 0.0686 - accuracy: 0.9815 - val_loss: 0.1087 - val_accuracy: 0.9691\n",
      "Epoch 9/15\n",
      "1500/1500 [==============================] - 3s 2ms/step - loss: 0.0571 - accuracy: 0.9846 - val_loss: 0.1015 - val_accuracy: 0.9712\n",
      "Epoch 10/15\n",
      "1500/1500 [==============================] - 4s 3ms/step - loss: 0.0549 - accuracy: 0.9855 - val_loss: 0.0950 - val_accuracy: 0.9730\n",
      "Epoch 11/15\n",
      "1500/1500 [==============================] - 4s 2ms/step - loss: 0.0479 - accuracy: 0.9882 - val_loss: 0.0952 - val_accuracy: 0.9719\n",
      "Epoch 12/15\n",
      "1500/1500 [==============================] - 3s 2ms/step - loss: 0.0408 - accuracy: 0.9898 - val_loss: 0.0960 - val_accuracy: 0.9712\n",
      "Epoch 13/15\n",
      "1500/1500 [==============================] - 3s 2ms/step - loss: 0.0347 - accuracy: 0.9917 - val_loss: 0.0914 - val_accuracy: 0.9732\n",
      "Epoch 14/15\n",
      "1500/1500 [==============================] - 3s 2ms/step - loss: 0.0329 - accuracy: 0.9924 - val_loss: 0.0900 - val_accuracy: 0.9737\n",
      "Epoch 15/15\n",
      "1500/1500 [==============================] - 3s 2ms/step - loss: 0.0280 - accuracy: 0.9944 - val_loss: 0.0869 - val_accuracy: 0.9743\n"
     ]
    }
   ],
   "source": [
    "from tensorflow.keras.models import Sequential\n",
    "from tensorflow.keras.layers import Dense, Activation\n",
    "from tensorflow.keras import optimizers\n",
    "\n",
    "input_dim = X_train.shape[1]\n",
    "hidden_dim = 100\n",
    "output_dim = 10\n",
    "# Construction du réseau de neurones\n",
    "model = Sequential()\n",
    "model.add(Dense(hidden_dim, input_dim=input_dim, activation=\"tanh\"))\n",
    "model.add(Dense(output_dim, activation=\"softmax\"))\n",
    "# Compilation avec l'optimiseur SGD, la loss categorical_crossentropy\n",
    "model.compile(optimizer=optimizers.SGD(lr=0.1),\n",
    "              loss='categorical_crossentropy', metrics=['accuracy'])\n",
    "# Entrainement du modèle\n",
    "history = model.fit(X_train, Y_train, validation_split=0.2, epochs=15, batch_size=32)"
   ]
  },
  {
   "cell_type": "markdown",
   "metadata": {
    "id": "GCdE5swDWb6s"
   },
   "source": [
    "### Visualisation de la convergence"
   ]
  },
  {
   "cell_type": "markdown",
   "metadata": {
    "id": "DShBNzIZWb6y"
   },
   "source": [
    "On rassemble tout dans un DataFrame"
   ]
  },
  {
   "cell_type": "code",
   "execution_count": 9,
   "metadata": {
    "colab": {
     "base_uri": "https://localhost:8080/",
     "height": 498
    },
    "id": "F4cgzMmcWb6z",
    "outputId": "672f7de8-138b-4f84-b2dd-fb210ffa20d1"
   },
   "outputs": [
    {
     "data": {
      "text/html": [
       "<div>\n",
       "<style scoped>\n",
       "    .dataframe tbody tr th:only-of-type {\n",
       "        vertical-align: middle;\n",
       "    }\n",
       "\n",
       "    .dataframe tbody tr th {\n",
       "        vertical-align: top;\n",
       "    }\n",
       "\n",
       "    .dataframe thead th {\n",
       "        text-align: right;\n",
       "    }\n",
       "</style>\n",
       "<table border=\"1\" class=\"dataframe\">\n",
       "  <thead>\n",
       "    <tr style=\"text-align: right;\">\n",
       "      <th></th>\n",
       "      <th>loss</th>\n",
       "      <th>accuracy</th>\n",
       "      <th>val_loss</th>\n",
       "      <th>val_accuracy</th>\n",
       "      <th>epoch</th>\n",
       "    </tr>\n",
       "  </thead>\n",
       "  <tbody>\n",
       "    <tr>\n",
       "      <th>0</th>\n",
       "      <td>0.354045</td>\n",
       "      <td>0.898958</td>\n",
       "      <td>0.223141</td>\n",
       "      <td>0.937750</td>\n",
       "      <td>0</td>\n",
       "    </tr>\n",
       "    <tr>\n",
       "      <th>1</th>\n",
       "      <td>0.205148</td>\n",
       "      <td>0.941063</td>\n",
       "      <td>0.181716</td>\n",
       "      <td>0.947167</td>\n",
       "      <td>1</td>\n",
       "    </tr>\n",
       "    <tr>\n",
       "      <th>2</th>\n",
       "      <td>0.155025</td>\n",
       "      <td>0.955813</td>\n",
       "      <td>0.147148</td>\n",
       "      <td>0.959083</td>\n",
       "      <td>2</td>\n",
       "    </tr>\n",
       "    <tr>\n",
       "      <th>3</th>\n",
       "      <td>0.125083</td>\n",
       "      <td>0.964083</td>\n",
       "      <td>0.130183</td>\n",
       "      <td>0.962167</td>\n",
       "      <td>3</td>\n",
       "    </tr>\n",
       "    <tr>\n",
       "      <th>4</th>\n",
       "      <td>0.104752</td>\n",
       "      <td>0.970458</td>\n",
       "      <td>0.116860</td>\n",
       "      <td>0.966333</td>\n",
       "      <td>4</td>\n",
       "    </tr>\n",
       "    <tr>\n",
       "      <th>5</th>\n",
       "      <td>0.088735</td>\n",
       "      <td>0.974750</td>\n",
       "      <td>0.114076</td>\n",
       "      <td>0.966000</td>\n",
       "      <td>5</td>\n",
       "    </tr>\n",
       "    <tr>\n",
       "      <th>6</th>\n",
       "      <td>0.076832</td>\n",
       "      <td>0.978188</td>\n",
       "      <td>0.111105</td>\n",
       "      <td>0.967833</td>\n",
       "      <td>6</td>\n",
       "    </tr>\n",
       "    <tr>\n",
       "      <th>7</th>\n",
       "      <td>0.066758</td>\n",
       "      <td>0.982021</td>\n",
       "      <td>0.108681</td>\n",
       "      <td>0.969083</td>\n",
       "      <td>7</td>\n",
       "    </tr>\n",
       "    <tr>\n",
       "      <th>8</th>\n",
       "      <td>0.058856</td>\n",
       "      <td>0.984292</td>\n",
       "      <td>0.101494</td>\n",
       "      <td>0.971167</td>\n",
       "      <td>8</td>\n",
       "    </tr>\n",
       "    <tr>\n",
       "      <th>9</th>\n",
       "      <td>0.052490</td>\n",
       "      <td>0.985708</td>\n",
       "      <td>0.094981</td>\n",
       "      <td>0.973000</td>\n",
       "      <td>9</td>\n",
       "    </tr>\n",
       "    <tr>\n",
       "      <th>10</th>\n",
       "      <td>0.046480</td>\n",
       "      <td>0.987979</td>\n",
       "      <td>0.095208</td>\n",
       "      <td>0.971917</td>\n",
       "      <td>10</td>\n",
       "    </tr>\n",
       "    <tr>\n",
       "      <th>11</th>\n",
       "      <td>0.041431</td>\n",
       "      <td>0.989313</td>\n",
       "      <td>0.096046</td>\n",
       "      <td>0.971250</td>\n",
       "      <td>11</td>\n",
       "    </tr>\n",
       "    <tr>\n",
       "      <th>12</th>\n",
       "      <td>0.037188</td>\n",
       "      <td>0.990854</td>\n",
       "      <td>0.091370</td>\n",
       "      <td>0.973167</td>\n",
       "      <td>12</td>\n",
       "    </tr>\n",
       "    <tr>\n",
       "      <th>13</th>\n",
       "      <td>0.033105</td>\n",
       "      <td>0.992000</td>\n",
       "      <td>0.090003</td>\n",
       "      <td>0.973667</td>\n",
       "      <td>13</td>\n",
       "    </tr>\n",
       "    <tr>\n",
       "      <th>14</th>\n",
       "      <td>0.029558</td>\n",
       "      <td>0.993688</td>\n",
       "      <td>0.086858</td>\n",
       "      <td>0.974333</td>\n",
       "      <td>14</td>\n",
       "    </tr>\n",
       "  </tbody>\n",
       "</table>\n",
       "</div>"
      ],
      "text/plain": [
       "        loss  accuracy  val_loss  val_accuracy  epoch\n",
       "0   0.354045  0.898958  0.223141      0.937750      0\n",
       "1   0.205148  0.941063  0.181716      0.947167      1\n",
       "2   0.155025  0.955813  0.147148      0.959083      2\n",
       "3   0.125083  0.964083  0.130183      0.962167      3\n",
       "4   0.104752  0.970458  0.116860      0.966333      4\n",
       "5   0.088735  0.974750  0.114076      0.966000      5\n",
       "6   0.076832  0.978188  0.111105      0.967833      6\n",
       "7   0.066758  0.982021  0.108681      0.969083      7\n",
       "8   0.058856  0.984292  0.101494      0.971167      8\n",
       "9   0.052490  0.985708  0.094981      0.973000      9\n",
       "10  0.046480  0.987979  0.095208      0.971917     10\n",
       "11  0.041431  0.989313  0.096046      0.971250     11\n",
       "12  0.037188  0.990854  0.091370      0.973167     12\n",
       "13  0.033105  0.992000  0.090003      0.973667     13\n",
       "14  0.029558  0.993688  0.086858      0.974333     14"
      ]
     },
     "execution_count": 9,
     "metadata": {},
     "output_type": "execute_result"
    }
   ],
   "source": [
    "import pandas as pd\n",
    "\n",
    "history_df = pd.DataFrame(history.history)\n",
    "history_df[\"epoch\"] = history.epoch\n",
    "history_df"
   ]
  },
  {
   "cell_type": "code",
   "execution_count": 10,
   "metadata": {
    "colab": {
     "base_uri": "https://localhost:8080/",
     "height": 390
    },
    "id": "Y25PZy49Wb61",
    "outputId": "34258d5d-ea43-4176-91af-90309db6ef71"
   },
   "outputs": [
    {
     "data": {
      "image/png": "[encoded data removed]",
      "text/plain": [
       "<Figure size 864x432 with 2 Axes>"
      ]
     },
     "metadata": {
      "needs_background": "light"
     },
     "output_type": "display_data"
    }
   ],
   "source": [
    "fig, (ax0, ax1) = plt.subplots(nrows=2, sharex=True, figsize=(12, 6))\n",
    "history_df.plot(x=\"epoch\", y=[\"loss\", \"val_loss\"], ax=ax0)\n",
    "history_df.plot(x=\"epoch\", y=[\"accuracy\", \"val_accuracy\"], ax=ax1);"
   ]
  }
 ],
 "metadata": {
  "celltoolbar": "Slideshow",
  "colab": {
   "collapsed_sections": [],
   "name": "premier_modele_keras.ipynb",
   "provenance": []
  },
  "file_extension": ".py",
  "kernelspec": {
   "display_name": "Python 3",
   "language": "python",
   "name": "python3"
  },
  "language_info": {
   "codemirror_mode": {
    "name": "ipython",
    "version": 3
   },
   "file_extension": ".py",
   "mimetype": "text/x-python",
   "name": "python",
   "nbconvert_exporter": "python",
   "pygments_lexer": "ipython3",
   "version": "3.7.4"
  },
  "mimetype": "text/x-python",
  "name": "python",
  "npconvert_exporter": "python",
  "pygments_lexer": "ipython3",
  "version": 3
 },
 "nbformat": 4,
 "nbformat_minor": 1
}

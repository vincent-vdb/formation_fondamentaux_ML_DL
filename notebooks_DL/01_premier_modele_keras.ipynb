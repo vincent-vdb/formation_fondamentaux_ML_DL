{
 "cells": [
  {
   "cell_type": "markdown",
   "metadata": {
    "id": "bcbvsh0OWb6G"
   },
   "source": [
    "# Entrainer un réseau de neurones avec Keras\n",
    "\n",
    "### Objectif: \n",
    "- Apprendre un réseau de neurones avec `tensorflow` et Keras\n",
    "\n",
    "### Jeu de données:\n",
    "- Digits: 10 class handwritten digits\n",
    "- http://scikit-learn.org/stable/modules/generated/sklearn.datasets.load_digits.html#sklearn.datasets.load_digits"
   ]
  },
  {
   "cell_type": "code",
   "execution_count": 1,
   "metadata": {
    "id": "MQkjfVRrWb6J"
   },
   "outputs": [],
   "source": [
    "%matplotlib inline \n",
    "# display figures in the notebook\n",
    "import matplotlib.pyplot as plt\n",
    "import numpy as np\n",
    "from sklearn.datasets import load_digits\n",
    "\n",
    "digits = load_digits()"
   ]
  },
  {
   "cell_type": "code",
   "execution_count": 8,
   "metadata": {
    "colab": {
     "base_uri": "https://localhost:8080/",
     "height": 227
    },
    "id": "DBTxt0QGWb6O",
    "outputId": "c5fefdd0-9b5f-4891-b30a-913576ee50f0"
   },
   "outputs": [
    {
     "data": {
      "image/png": "[encoded data removed]",
      "text/plain": [
       "<Figure size 216x216 with 1 Axes>"
      ]
     },
     "metadata": {
      "needs_background": "light"
     },
     "output_type": "display_data"
    }
   ],
   "source": [
    "sample_index = 100\n",
    "plt.figure(figsize=(3, 3))\n",
    "plt.imshow(digits.images[sample_index], cmap=plt.cm.gray_r,\n",
    "           interpolation='nearest')\n",
    "plt.title(\"image label: %d\" % digits.target[sample_index]);"
   ]
  },
  {
   "cell_type": "markdown",
   "metadata": {
    "id": "7_9dN61GWb6R"
   },
   "source": [
    "## Séparation apprentissage / test\n"
   ]
  },
  {
   "cell_type": "code",
   "execution_count": 9,
   "metadata": {
    "id": "9STinoM9Wb6S"
   },
   "outputs": [],
   "source": [
    "from sklearn.model_selection import train_test_split\n",
    "\n",
    "data = np.asarray(digits.data, dtype='float32')\n",
    "target = np.asarray(digits.target, dtype='int32')\n",
    "\n",
    "X_train, X_test, y_train, y_test = train_test_split(\n",
    "    data, target, test_size=0.15, random_state=37)"
   ]
  },
  {
   "cell_type": "markdown",
   "metadata": {
    "id": "w_DfQAwXWb6V"
   },
   "source": [
    "## Préparation des données\n",
    "\n",
    "Normalisation des données"
   ]
  },
  {
   "cell_type": "code",
   "execution_count": 10,
   "metadata": {
    "id": "ZwhWqH0kWb6V"
   },
   "outputs": [],
   "source": [
    "from sklearn import preprocessing\n",
    "\n",
    "\n",
    "# mean = 0 ; standard deviation = 1.0\n",
    "scaler = preprocessing.StandardScaler()\n",
    "X_train = scaler.fit_transform(X_train)\n",
    "X_test = scaler.transform(X_test)\n",
    "\n",
    "# print(scaler.mean_)\n",
    "# print(scaler.scale_)"
   ]
  },
  {
   "cell_type": "markdown",
   "metadata": {
    "id": "RWYQFDZkWb6Y"
   },
   "source": [
    "Affichage des données transformées"
   ]
  },
  {
   "cell_type": "code",
   "execution_count": 11,
   "metadata": {
    "colab": {
     "base_uri": "https://localhost:8080/",
     "height": 242
    },
    "id": "f5uf5fIfWb6Y",
    "outputId": "193ef8f7-b51c-4ceb-db80-9d61e52b1d83"
   },
   "outputs": [
    {
     "data": {
      "image/png": "[encoded data removed]",
      "text/plain": [
       "<Figure size 216x216 with 1 Axes>"
      ]
     },
     "metadata": {
      "needs_background": "light"
     },
     "output_type": "display_data"
    }
   ],
   "source": [
    "sample_index = 45\n",
    "plt.figure(figsize=(3, 3))\n",
    "plt.imshow(X_train[sample_index].reshape(8, 8),\n",
    "           cmap=plt.cm.gray_r, interpolation='nearest')\n",
    "plt.title(\"transformed sample\\n(standardization)\");"
   ]
  },
  {
   "cell_type": "markdown",
   "metadata": {
    "id": "hshlxDgBWb6b"
   },
   "source": [
    "On peut retourner à l'image initiale"
   ]
  },
  {
   "cell_type": "code",
   "execution_count": 12,
   "metadata": {
    "colab": {
     "base_uri": "https://localhost:8080/",
     "height": 227
    },
    "id": "RxDRNVsUWb6c",
    "outputId": "f98426ed-1782-4922-afd1-ca5588c311b8"
   },
   "outputs": [
    {
     "data": {
      "image/png": "[encoded data removed]",
      "text/plain": [
       "<Figure size 216x216 with 1 Axes>"
      ]
     },
     "metadata": {
      "needs_background": "light"
     },
     "output_type": "display_data"
    }
   ],
   "source": [
    "plt.figure(figsize=(3, 3))\n",
    "plt.imshow(scaler.inverse_transform(X_train[sample_index]).reshape(8, 8),\n",
    "           cmap=plt.cm.gray_r, interpolation='nearest')\n",
    "plt.title(\"original sample\");"
   ]
  },
  {
   "cell_type": "code",
   "execution_count": 13,
   "metadata": {
    "colab": {
     "base_uri": "https://localhost:8080/"
    },
    "id": "gbovOammWb6e",
    "outputId": "2722d17b-583c-40df-c9d5-36f1d59fe473"
   },
   "outputs": [
    {
     "name": "stdout",
     "output_type": "stream",
     "text": [
      "(1527, 64) (1527,)\n"
     ]
    }
   ],
   "source": [
    "print(X_train.shape, y_train.shape)"
   ]
  },
  {
   "cell_type": "code",
   "execution_count": 14,
   "metadata": {
    "colab": {
     "base_uri": "https://localhost:8080/"
    },
    "id": "vcjwLbbIWb6h",
    "outputId": "00bfd0e6-e4cd-4dbd-b481-9b805ab02c5c"
   },
   "outputs": [
    {
     "name": "stdout",
     "output_type": "stream",
     "text": [
      "(270, 64) (270,)\n"
     ]
    }
   ],
   "source": [
    "print(X_test.shape, y_test.shape)"
   ]
  },
  {
   "cell_type": "markdown",
   "metadata": {
    "id": "FN_gX-DHWb6j"
   },
   "source": [
    "## Préparation de la cible\n",
    "\n",
    "Utilisation de one-hot"
   ]
  },
  {
   "cell_type": "code",
   "execution_count": 15,
   "metadata": {
    "colab": {
     "base_uri": "https://localhost:8080/"
    },
    "id": "MPCMXtIHWb6j",
    "outputId": "0f057c89-6bd9-4b68-8531-0ddf8935502e"
   },
   "outputs": [
    {
     "data": {
      "text/plain": [
       "array([2, 9, 5], dtype=int32)"
      ]
     },
     "execution_count": 15,
     "metadata": {},
     "output_type": "execute_result"
    }
   ],
   "source": [
    "y_train[:3]"
   ]
  },
  {
   "cell_type": "markdown",
   "metadata": {
    "id": "CSk5UaEAWb6m"
   },
   "source": [
    "Keras provides a utility function to convert integer-encoded categorical variables as one-hot encoded values:"
   ]
  },
  {
   "cell_type": "code",
   "execution_count": 16,
   "metadata": {
    "colab": {
     "base_uri": "https://localhost:8080/"
    },
    "id": "pZsznT6CWb6m",
    "outputId": "2f84e040-df47-4c9d-822e-cd889e0295ad"
   },
   "outputs": [
    {
     "data": {
      "text/plain": [
       "array([[0., 0., 1., 0., 0., 0., 0., 0., 0., 0.],\n",
       "       [0., 0., 0., 0., 0., 0., 0., 0., 0., 1.],\n",
       "       [0., 0., 0., 0., 0., 1., 0., 0., 0., 0.]], dtype=float32)"
      ]
     },
     "execution_count": 16,
     "metadata": {},
     "output_type": "execute_result"
    }
   ],
   "source": [
    "from tensorflow.keras.utils import to_categorical\n",
    "\n",
    "Y_train = to_categorical(y_train)\n",
    "Y_train[:3]"
   ]
  },
  {
   "cell_type": "markdown",
   "metadata": {
    "id": "39LkRRztWb6o"
   },
   "source": [
    "## Construction d'un réseau de neurones simple avec keras\n",
    "\n",
    "### Un premier modèle avec Keras"
   ]
  },
  {
   "cell_type": "markdown",
   "metadata": {
    "id": "tqHDd_tSWb6p"
   },
   "source": [
    "Nous pouvons maintenant construire notre premier réseau de neurones en utilisant l'API de Keras:\n",
    "\n",
    "- d'abord nous définissons le modèle en empilant des couches avec les bonnes dimensions\n",
    "- puis on définit une fonction de perte et on branche l'optimiseur SGD\n",
    "- puis nous alimentons le modèle avec les données d'apprentissage pour un nombre fixe d'époques"
   ]
  },
  {
   "cell_type": "code",
   "execution_count": 17,
   "metadata": {
    "colab": {
     "base_uri": "https://localhost:8080/"
    },
    "id": "7tkVtqrSWb6p",
    "outputId": "d4247873-93a0-4c83-f077-791bc95e3d6d"
   },
   "outputs": [
    {
     "name": "stdout",
     "output_type": "stream",
     "text": [
      "Epoch 1/15\n",
      "39/39 [==============================] - 1s 11ms/step - loss: 1.4911 - accuracy: 0.5617 - val_loss: 0.4212 - val_accuracy: 0.9216\n",
      "Epoch 2/15\n",
      "39/39 [==============================] - 0s 2ms/step - loss: 0.3602 - accuracy: 0.9227 - val_loss: 0.2785 - val_accuracy: 0.9379\n",
      "Epoch 3/15\n",
      "39/39 [==============================] - 0s 2ms/step - loss: 0.2417 - accuracy: 0.9486 - val_loss: 0.2293 - val_accuracy: 0.9444\n",
      "Epoch 4/15\n",
      "39/39 [==============================] - 0s 2ms/step - loss: 0.1834 - accuracy: 0.9660 - val_loss: 0.1988 - val_accuracy: 0.9477\n",
      "Epoch 5/15\n",
      "39/39 [==============================] - 0s 2ms/step - loss: 0.1463 - accuracy: 0.9717 - val_loss: 0.1800 - val_accuracy: 0.9510\n",
      "Epoch 6/15\n",
      "39/39 [==============================] - 0s 2ms/step - loss: 0.1259 - accuracy: 0.9796 - val_loss: 0.1659 - val_accuracy: 0.9608\n",
      "Epoch 7/15\n",
      "39/39 [==============================] - 0s 2ms/step - loss: 0.1022 - accuracy: 0.9831 - val_loss: 0.1525 - val_accuracy: 0.9608\n",
      "Epoch 8/15\n",
      "39/39 [==============================] - 0s 2ms/step - loss: 0.1043 - accuracy: 0.9774 - val_loss: 0.1410 - val_accuracy: 0.9673\n",
      "Epoch 9/15\n",
      "39/39 [==============================] - 0s 2ms/step - loss: 0.0902 - accuracy: 0.9831 - val_loss: 0.1294 - val_accuracy: 0.9673\n",
      "Epoch 10/15\n",
      "39/39 [==============================] - 0s 2ms/step - loss: 0.0736 - accuracy: 0.9914 - val_loss: 0.1262 - val_accuracy: 0.9706\n",
      "Epoch 11/15\n",
      "39/39 [==============================] - 0s 2ms/step - loss: 0.0756 - accuracy: 0.9884 - val_loss: 0.1205 - val_accuracy: 0.9706\n",
      "Epoch 12/15\n",
      "39/39 [==============================] - 0s 2ms/step - loss: 0.0599 - accuracy: 0.9955 - val_loss: 0.1183 - val_accuracy: 0.9673\n",
      "Epoch 13/15\n",
      "39/39 [==============================] - 0s 2ms/step - loss: 0.0574 - accuracy: 0.9958 - val_loss: 0.1140 - val_accuracy: 0.9706\n",
      "Epoch 14/15\n",
      "39/39 [==============================] - 0s 2ms/step - loss: 0.0544 - accuracy: 0.9975 - val_loss: 0.1080 - val_accuracy: 0.9771\n",
      "Epoch 15/15\n",
      "39/39 [==============================] - 0s 2ms/step - loss: 0.0510 - accuracy: 0.9949 - val_loss: 0.1061 - val_accuracy: 0.9771\n"
     ]
    }
   ],
   "source": [
    "from tensorflow.keras.models import Sequential\n",
    "from tensorflow.keras.layers import Dense, Activation\n",
    "from tensorflow.keras import optimizers\n",
    "\n",
    "input_dim = X_train.shape[1]\n",
    "hidden_dim = 100\n",
    "output_dim = 10\n",
    "\n",
    "model = Sequential()\n",
    "model.add(Dense(hidden_dim, input_dim=input_dim, activation=\"tanh\"))\n",
    "model.add(Dense(output_dim, activation=\"softmax\"))\n",
    "\n",
    "model.compile(optimizer=optimizers.SGD(lr=0.1),\n",
    "              loss='categorical_crossentropy', metrics=['accuracy'])\n",
    "\n",
    "history = model.fit(X_train, Y_train, validation_split=0.2, epochs=15, batch_size=32)"
   ]
  },
  {
   "cell_type": "markdown",
   "metadata": {
    "id": "GCdE5swDWb6s"
   },
   "source": [
    "### Visualisation de la convergence"
   ]
  },
  {
   "cell_type": "markdown",
   "metadata": {
    "id": "DShBNzIZWb6y"
   },
   "source": [
    "On rassemble tout dans un DataFrame"
   ]
  },
  {
   "cell_type": "code",
   "execution_count": 18,
   "metadata": {
    "colab": {
     "base_uri": "https://localhost:8080/",
     "height": 498
    },
    "id": "F4cgzMmcWb6z",
    "outputId": "672f7de8-138b-4f84-b2dd-fb210ffa20d1"
   },
   "outputs": [
    {
     "data": {
      "text/html": [
       "<div>\n",
       "<style scoped>\n",
       "    .dataframe tbody tr th:only-of-type {\n",
       "        vertical-align: middle;\n",
       "    }\n",
       "\n",
       "    .dataframe tbody tr th {\n",
       "        vertical-align: top;\n",
       "    }\n",
       "\n",
       "    .dataframe thead th {\n",
       "        text-align: right;\n",
       "    }\n",
       "</style>\n",
       "<table border=\"1\" class=\"dataframe\">\n",
       "  <thead>\n",
       "    <tr style=\"text-align: right;\">\n",
       "      <th></th>\n",
       "      <th>loss</th>\n",
       "      <th>accuracy</th>\n",
       "      <th>val_loss</th>\n",
       "      <th>val_accuracy</th>\n",
       "      <th>epoch</th>\n",
       "    </tr>\n",
       "  </thead>\n",
       "  <tbody>\n",
       "    <tr>\n",
       "      <th>0</th>\n",
       "      <td>0.950656</td>\n",
       "      <td>0.764128</td>\n",
       "      <td>0.421225</td>\n",
       "      <td>0.921569</td>\n",
       "      <td>0</td>\n",
       "    </tr>\n",
       "    <tr>\n",
       "      <th>1</th>\n",
       "      <td>0.319220</td>\n",
       "      <td>0.936937</td>\n",
       "      <td>0.278527</td>\n",
       "      <td>0.937908</td>\n",
       "      <td>1</td>\n",
       "    </tr>\n",
       "    <tr>\n",
       "      <th>2</th>\n",
       "      <td>0.217814</td>\n",
       "      <td>0.956593</td>\n",
       "      <td>0.229334</td>\n",
       "      <td>0.944444</td>\n",
       "      <td>2</td>\n",
       "    </tr>\n",
       "    <tr>\n",
       "      <th>3</th>\n",
       "      <td>0.171117</td>\n",
       "      <td>0.968059</td>\n",
       "      <td>0.198815</td>\n",
       "      <td>0.947712</td>\n",
       "      <td>3</td>\n",
       "    </tr>\n",
       "    <tr>\n",
       "      <th>4</th>\n",
       "      <td>0.142979</td>\n",
       "      <td>0.971335</td>\n",
       "      <td>0.179997</td>\n",
       "      <td>0.950980</td>\n",
       "      <td>4</td>\n",
       "    </tr>\n",
       "    <tr>\n",
       "      <th>5</th>\n",
       "      <td>0.123114</td>\n",
       "      <td>0.977068</td>\n",
       "      <td>0.165947</td>\n",
       "      <td>0.960784</td>\n",
       "      <td>5</td>\n",
       "    </tr>\n",
       "    <tr>\n",
       "      <th>6</th>\n",
       "      <td>0.108329</td>\n",
       "      <td>0.979525</td>\n",
       "      <td>0.152534</td>\n",
       "      <td>0.960784</td>\n",
       "      <td>6</td>\n",
       "    </tr>\n",
       "    <tr>\n",
       "      <th>7</th>\n",
       "      <td>0.096335</td>\n",
       "      <td>0.983620</td>\n",
       "      <td>0.141007</td>\n",
       "      <td>0.967320</td>\n",
       "      <td>7</td>\n",
       "    </tr>\n",
       "    <tr>\n",
       "      <th>8</th>\n",
       "      <td>0.085646</td>\n",
       "      <td>0.986896</td>\n",
       "      <td>0.129449</td>\n",
       "      <td>0.967320</td>\n",
       "      <td>8</td>\n",
       "    </tr>\n",
       "    <tr>\n",
       "      <th>9</th>\n",
       "      <td>0.077865</td>\n",
       "      <td>0.987715</td>\n",
       "      <td>0.126154</td>\n",
       "      <td>0.970588</td>\n",
       "      <td>9</td>\n",
       "    </tr>\n",
       "    <tr>\n",
       "      <th>10</th>\n",
       "      <td>0.070986</td>\n",
       "      <td>0.989353</td>\n",
       "      <td>0.120515</td>\n",
       "      <td>0.970588</td>\n",
       "      <td>10</td>\n",
       "    </tr>\n",
       "    <tr>\n",
       "      <th>11</th>\n",
       "      <td>0.064783</td>\n",
       "      <td>0.992629</td>\n",
       "      <td>0.118338</td>\n",
       "      <td>0.967320</td>\n",
       "      <td>11</td>\n",
       "    </tr>\n",
       "    <tr>\n",
       "      <th>12</th>\n",
       "      <td>0.060156</td>\n",
       "      <td>0.992629</td>\n",
       "      <td>0.113960</td>\n",
       "      <td>0.970588</td>\n",
       "      <td>12</td>\n",
       "    </tr>\n",
       "    <tr>\n",
       "      <th>13</th>\n",
       "      <td>0.055815</td>\n",
       "      <td>0.994267</td>\n",
       "      <td>0.108035</td>\n",
       "      <td>0.977124</td>\n",
       "      <td>13</td>\n",
       "    </tr>\n",
       "    <tr>\n",
       "      <th>14</th>\n",
       "      <td>0.052214</td>\n",
       "      <td>0.994267</td>\n",
       "      <td>0.106111</td>\n",
       "      <td>0.977124</td>\n",
       "      <td>14</td>\n",
       "    </tr>\n",
       "  </tbody>\n",
       "</table>\n",
       "</div>"
      ],
      "text/plain": [
       "        loss  accuracy  val_loss  val_accuracy  epoch\n",
       "0   0.950656  0.764128  0.421225      0.921569      0\n",
       "1   0.319220  0.936937  0.278527      0.937908      1\n",
       "2   0.217814  0.956593  0.229334      0.944444      2\n",
       "3   0.171117  0.968059  0.198815      0.947712      3\n",
       "4   0.142979  0.971335  0.179997      0.950980      4\n",
       "5   0.123114  0.977068  0.165947      0.960784      5\n",
       "6   0.108329  0.979525  0.152534      0.960784      6\n",
       "7   0.096335  0.983620  0.141007      0.967320      7\n",
       "8   0.085646  0.986896  0.129449      0.967320      8\n",
       "9   0.077865  0.987715  0.126154      0.970588      9\n",
       "10  0.070986  0.989353  0.120515      0.970588     10\n",
       "11  0.064783  0.992629  0.118338      0.967320     11\n",
       "12  0.060156  0.992629  0.113960      0.970588     12\n",
       "13  0.055815  0.994267  0.108035      0.977124     13\n",
       "14  0.052214  0.994267  0.106111      0.977124     14"
      ]
     },
     "execution_count": 18,
     "metadata": {},
     "output_type": "execute_result"
    }
   ],
   "source": [
    "import pandas as pd\n",
    "\n",
    "history_df = pd.DataFrame(history.history)\n",
    "history_df[\"epoch\"] = history.epoch\n",
    "history_df"
   ]
  },
  {
   "cell_type": "code",
   "execution_count": 19,
   "metadata": {
    "colab": {
     "base_uri": "https://localhost:8080/",
     "height": 390
    },
    "id": "Y25PZy49Wb61",
    "outputId": "34258d5d-ea43-4176-91af-90309db6ef71"
   },
   "outputs": [
    {
     "data": {
      "image/png": "[encoded data removed]",
      "text/plain": [
       "<Figure size 864x432 with 2 Axes>"
      ]
     },
     "metadata": {
      "needs_background": "light"
     },
     "output_type": "display_data"
    }
   ],
   "source": [
    "fig, (ax0, ax1) = plt.subplots(nrows=2, sharex=True, figsize=(12, 6))\n",
    "history_df.plot(x=\"epoch\", y=[\"loss\", \"val_loss\"], ax=ax0)\n",
    "history_df.plot(x=\"epoch\", y=[\"accuracy\", \"val_accuracy\"], ax=ax1);"
   ]
  },
  {
   "cell_type": "code",
   "execution_count": null,
   "metadata": {},
   "outputs": [],
   "source": []
  }
 ],
 "metadata": {
  "colab": {
   "collapsed_sections": [],
   "name": "premier_modele_keras.ipynb",
   "provenance": []
  },
  "file_extension": ".py",
  "kernelspec": {
   "display_name": "Python 3",
   "language": "python",
   "name": "python3"
  },
  "language_info": {
   "codemirror_mode": {
    "name": "ipython",
    "version": 3
   },
   "file_extension": ".py",
   "mimetype": "text/x-python",
   "name": "python",
   "nbconvert_exporter": "python",
   "pygments_lexer": "ipython3",
   "version": "3.7.4"
  },
  "mimetype": "text/x-python",
  "name": "python",
  "npconvert_exporter": "python",
  "pygments_lexer": "ipython3",
  "version": 3
 },
 "nbformat": 4,
 "nbformat_minor": 1
}
